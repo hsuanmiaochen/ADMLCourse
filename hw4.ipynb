{
 "cells": [
  {
   "cell_type": "code",
   "execution_count": 1,
   "metadata": {},
   "outputs": [],
   "source": [
    "import zipfile\n",
    "f = zipfile.ZipFile(\"./Jigsaw-VAD-main.zip\",'r') # 原壓縮文件在服務器的位置\n",
    "for file in f.namelist():\n",
    "    f.extract(file,\"./Jigsaw-VAD-main\") #解壓到的位置，./表示當前目錄(與此.ipynb文件同一個目錄)\n",
    "f.close()"
   ]
  }
 ],
 "metadata": {
  "kernelspec": {
   "display_name": "ad112",
   "language": "python",
   "name": "python3"
  },
  "language_info": {
   "codemirror_mode": {
    "name": "ipython",
    "version": 3
   },
   "file_extension": ".py",
   "mimetype": "text/x-python",
   "name": "python",
   "nbconvert_exporter": "python",
   "pygments_lexer": "ipython3",
   "version": "3.8.19"
  }
 },
 "nbformat": 4,
 "nbformat_minor": 2
}
